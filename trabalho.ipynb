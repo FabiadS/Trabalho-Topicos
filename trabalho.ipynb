{
 "cells": [
  {
   "cell_type": "markdown",
   "metadata": {},
   "source": [
    "## Importando as bibliotecas necessarias"
   ]
  },
  {
   "cell_type": "code",
   "execution_count": 29,
   "metadata": {},
   "outputs": [
    {
     "name": "stderr",
     "output_type": "stream",
     "text": [
      "[nltk_data] Downloading package punkt to\n",
      "[nltk_data]     C:\\Users\\luiza\\AppData\\Roaming\\nltk_data...\n",
      "[nltk_data]   Package punkt is already up-to-date!\n",
      "[nltk_data] Downloading package wordnet to\n",
      "[nltk_data]     C:\\Users\\luiza\\AppData\\Roaming\\nltk_data...\n",
      "[nltk_data]   Package wordnet is already up-to-date!\n",
      "[nltk_data] Downloading package omw-1.4 to\n",
      "[nltk_data]     C:\\Users\\luiza\\AppData\\Roaming\\nltk_data...\n",
      "[nltk_data]   Package omw-1.4 is already up-to-date!\n",
      "[nltk_data] Downloading package stopwords to\n",
      "[nltk_data]     C:\\Users\\luiza\\AppData\\Roaming\\nltk_data...\n",
      "[nltk_data]   Package stopwords is already up-to-date!\n"
     ]
    },
    {
     "data": {
      "text/plain": [
       "True"
      ]
     },
     "execution_count": 29,
     "metadata": {},
     "output_type": "execute_result"
    }
   ],
   "source": [
    "# importando bibliotecas\n",
    "import numpy as np\n",
    "import pandas as pd\n",
    "import seaborn as sns\n",
    "import  matplotlib as plt\n",
    "import re\n",
    "from sklearn.feature_extraction.text import TfidfVectorizer\n",
    "import nltk\n",
    "from nltk.stem import WordNetLemmatizer\n",
    "from nltk.corpus import stopwords\n",
    "from sklearn.feature_extraction.text import CountVectorizer\n",
    "#from itertools import chain\n",
    "import itertools\n",
    "nltk.download('punkt')\n",
    "nltk.download('wordnet')\n",
    "nltk.download('omw-1.4')\n",
    "nltk.download('stopwords')\n"
   ]
  },
  {
   "cell_type": "markdown",
   "metadata": {},
   "source": [
    "#### Carregando os dados de treinamento"
   ]
  },
  {
   "cell_type": "code",
   "execution_count": 30,
   "metadata": {},
   "outputs": [],
   "source": [
    "df_train = pd.read_csv('IMDB_train.csv')"
   ]
  },
  {
   "cell_type": "markdown",
   "metadata": {},
   "source": [
    "#### Mostrando as 10 primeiras linhas"
   ]
  },
  {
   "cell_type": "code",
   "execution_count": 31,
   "metadata": {},
   "outputs": [
    {
     "data": {
      "text/html": [
       "<div>\n",
       "<style scoped>\n",
       "    .dataframe tbody tr th:only-of-type {\n",
       "        vertical-align: middle;\n",
       "    }\n",
       "\n",
       "    .dataframe tbody tr th {\n",
       "        vertical-align: top;\n",
       "    }\n",
       "\n",
       "    .dataframe thead th {\n",
       "        text-align: right;\n",
       "    }\n",
       "</style>\n",
       "<table border=\"1\" class=\"dataframe\">\n",
       "  <thead>\n",
       "    <tr style=\"text-align: right;\">\n",
       "      <th></th>\n",
       "      <th>class</th>\n",
       "      <th>text</th>\n",
       "    </tr>\n",
       "  </thead>\n",
       "  <tbody>\n",
       "    <tr>\n",
       "      <th>0</th>\n",
       "      <td>Pos</td>\n",
       "      <td>a common complaint amongst film critics is   ...</td>\n",
       "    </tr>\n",
       "    <tr>\n",
       "      <th>1</th>\n",
       "      <td>Pos</td>\n",
       "      <td>whew   this film oozes energy   the kind of b...</td>\n",
       "    </tr>\n",
       "    <tr>\n",
       "      <th>2</th>\n",
       "      <td>Pos</td>\n",
       "      <td>steven spielberg s   amistad     which is bas...</td>\n",
       "    </tr>\n",
       "    <tr>\n",
       "      <th>3</th>\n",
       "      <td>Pos</td>\n",
       "      <td>he has spent his entire life in an awful litt...</td>\n",
       "    </tr>\n",
       "    <tr>\n",
       "      <th>4</th>\n",
       "      <td>Pos</td>\n",
       "      <td>being that it is a foreign language film with...</td>\n",
       "    </tr>\n",
       "    <tr>\n",
       "      <th>5</th>\n",
       "      <td>Pos</td>\n",
       "      <td>when i first heard of contact   the hype was ...</td>\n",
       "    </tr>\n",
       "    <tr>\n",
       "      <th>6</th>\n",
       "      <td>Pos</td>\n",
       "      <td>you ve got to love disney    no matter what t...</td>\n",
       "    </tr>\n",
       "    <tr>\n",
       "      <th>7</th>\n",
       "      <td>Pos</td>\n",
       "      <td>with three pre  to mid teen children and an a...</td>\n",
       "    </tr>\n",
       "    <tr>\n",
       "      <th>8</th>\n",
       "      <td>Pos</td>\n",
       "      <td>i hate to burst your bubble   but after all t...</td>\n",
       "    </tr>\n",
       "    <tr>\n",
       "      <th>9</th>\n",
       "      <td>Pos</td>\n",
       "      <td>susan granger s review of   osmosis jones    ...</td>\n",
       "    </tr>\n",
       "  </tbody>\n",
       "</table>\n",
       "</div>"
      ],
      "text/plain": [
       "  class                                               text\n",
       "0   Pos   a common complaint amongst film critics is   ...\n",
       "1   Pos   whew   this film oozes energy   the kind of b...\n",
       "2   Pos   steven spielberg s   amistad     which is bas...\n",
       "3   Pos   he has spent his entire life in an awful litt...\n",
       "4   Pos   being that it is a foreign language film with...\n",
       "5   Pos   when i first heard of contact   the hype was ...\n",
       "6   Pos   you ve got to love disney    no matter what t...\n",
       "7   Pos   with three pre  to mid teen children and an a...\n",
       "8   Pos   i hate to burst your bubble   but after all t...\n",
       "9   Pos   susan granger s review of   osmosis jones    ..."
      ]
     },
     "execution_count": 31,
     "metadata": {},
     "output_type": "execute_result"
    }
   ],
   "source": [
    "df_train.head(10)"
   ]
  },
  {
   "cell_type": "markdown",
   "metadata": {},
   "source": [
    "#### Mostrando o nome das colunas"
   ]
  },
  {
   "cell_type": "code",
   "execution_count": 32,
   "metadata": {},
   "outputs": [
    {
     "data": {
      "text/plain": [
       "Index(['class', 'text'], dtype='object')"
      ]
     },
     "execution_count": 32,
     "metadata": {},
     "output_type": "execute_result"
    }
   ],
   "source": [
    "df_train.columns"
   ]
  },
  {
   "cell_type": "markdown",
   "metadata": {},
   "source": [
    "#### Renomeando o nome das colunas"
   ]
  },
  {
   "cell_type": "code",
   "execution_count": 33,
   "metadata": {},
   "outputs": [],
   "source": [
    "df_train = df_train.rename(columns={'class': 'tipo', 'text': 'critica'})"
   ]
  },
  {
   "cell_type": "markdown",
   "metadata": {},
   "source": [
    "#### Transformando o target \"tipo\" para 0 - Neg e 1 - Pos"
   ]
  },
  {
   "cell_type": "code",
   "execution_count": 34,
   "metadata": {},
   "outputs": [
    {
     "data": {
      "text/html": [
       "<div>\n",
       "<style scoped>\n",
       "    .dataframe tbody tr th:only-of-type {\n",
       "        vertical-align: middle;\n",
       "    }\n",
       "\n",
       "    .dataframe tbody tr th {\n",
       "        vertical-align: top;\n",
       "    }\n",
       "\n",
       "    .dataframe thead th {\n",
       "        text-align: right;\n",
       "    }\n",
       "</style>\n",
       "<table border=\"1\" class=\"dataframe\">\n",
       "  <thead>\n",
       "    <tr style=\"text-align: right;\">\n",
       "      <th></th>\n",
       "      <th>tipo</th>\n",
       "      <th>critica</th>\n",
       "    </tr>\n",
       "  </thead>\n",
       "  <tbody>\n",
       "    <tr>\n",
       "      <th>0</th>\n",
       "      <td>1</td>\n",
       "      <td>a common complaint amongst film critics is   ...</td>\n",
       "    </tr>\n",
       "    <tr>\n",
       "      <th>1</th>\n",
       "      <td>1</td>\n",
       "      <td>whew   this film oozes energy   the kind of b...</td>\n",
       "    </tr>\n",
       "    <tr>\n",
       "      <th>2</th>\n",
       "      <td>1</td>\n",
       "      <td>steven spielberg s   amistad     which is bas...</td>\n",
       "    </tr>\n",
       "    <tr>\n",
       "      <th>3</th>\n",
       "      <td>1</td>\n",
       "      <td>he has spent his entire life in an awful litt...</td>\n",
       "    </tr>\n",
       "    <tr>\n",
       "      <th>4</th>\n",
       "      <td>1</td>\n",
       "      <td>being that it is a foreign language film with...</td>\n",
       "    </tr>\n",
       "  </tbody>\n",
       "</table>\n",
       "</div>"
      ],
      "text/plain": [
       "   tipo                                            critica\n",
       "0     1   a common complaint amongst film critics is   ...\n",
       "1     1   whew   this film oozes energy   the kind of b...\n",
       "2     1   steven spielberg s   amistad     which is bas...\n",
       "3     1   he has spent his entire life in an awful litt...\n",
       "4     1   being that it is a foreign language film with..."
      ]
     },
     "execution_count": 34,
     "metadata": {},
     "output_type": "execute_result"
    }
   ],
   "source": [
    "df_train['tipo']=df_train['tipo'].map({\"Pos\":1,\"Neg\":0})\n",
    "df_train.head()"
   ]
  },
  {
   "cell_type": "markdown",
   "metadata": {},
   "source": [
    "#### Verifica se estao faltando valores"
   ]
  },
  {
   "cell_type": "code",
   "execution_count": 35,
   "metadata": {},
   "outputs": [
    {
     "data": {
      "text/plain": [
       "tipo       0\n",
       "critica    0\n",
       "dtype: int64"
      ]
     },
     "execution_count": 35,
     "metadata": {},
     "output_type": "execute_result"
    }
   ],
   "source": [
    "df_train.isna().sum()"
   ]
  },
  {
   "cell_type": "markdown",
   "metadata": {},
   "source": [
    "#### Verificar se a quantidade de dados do target (tipo da critica) esta balanceada"
   ]
  },
  {
   "cell_type": "code",
   "execution_count": 36,
   "metadata": {},
   "outputs": [
    {
     "name": "stdout",
     "output_type": "stream",
     "text": [
      "1    800\n",
      "0    800\n",
      "Name: tipo, dtype: int64\n"
     ]
    },
    {
     "data": {
      "text/plain": [
       "<AxesSubplot: ylabel='tipo'>"
      ]
     },
     "execution_count": 36,
     "metadata": {},
     "output_type": "execute_result"
    },
    {
     "data": {
      "image/png": "[encoded data removed]",
      "text/plain": [
       "<Figure size 640x480 with 1 Axes>"
      ]
     },
     "metadata": {},
     "output_type": "display_data"
    }
   ],
   "source": [
    "tipo_count = df_train['tipo'].value_counts()\n",
    "print(tipo_count)\n",
    "sns.barplot(x=tipo_count.index, y=tipo_count)"
   ]
  },
  {
   "cell_type": "code",
   "execution_count": 37,
   "metadata": {},
   "outputs": [],
   "source": [
    "critica, tipo = df_train.critica, df_train.tipo"
   ]
  },
  {
   "cell_type": "code",
   "execution_count": 38,
   "metadata": {},
   "outputs": [
    {
     "name": "stdout",
     "output_type": "stream",
     "text": [
      "0        a common complaint amongst film critics is   ...\n",
      "1        whew   this film oozes energy   the kind of b...\n",
      "2        steven spielberg s   amistad     which is bas...\n",
      "3        he has spent his entire life in an awful litt...\n",
      "4        being that it is a foreign language film with...\n",
      "                              ...                        \n",
      "1595     if anything     stigmata   should be taken as...\n",
      "1596     john boorman s   zardoz   is a goofy cinemati...\n",
      "1597     the kids in the hall are an acquired taste   ...\n",
      "1598     there was a time when john carpenter was a gr...\n",
      "1599     two party guys bob their heads to haddaway s ...\n",
      "Name: critica, Length: 1600, dtype: object\n",
      "0       1\n",
      "1       1\n",
      "2       1\n",
      "3       1\n",
      "4       1\n",
      "       ..\n",
      "1595    0\n",
      "1596    0\n",
      "1597    0\n",
      "1598    0\n",
      "1599    0\n",
      "Name: tipo, Length: 1600, dtype: int64\n"
     ]
    }
   ],
   "source": [
    "print(critica)\n",
    "print(tipo)"
   ]
  },
  {
   "cell_type": "code",
   "execution_count": 45,
   "metadata": {},
   "outputs": [],
   "source": [
    "documents = []\n",
    "\n",
    "stemmer = WordNetLemmatizer()\n",
    "def pre_processamento(document):\n",
    "\n",
    "    for i in range(0, len(critica)):\n",
    "        # Remove all the special characters\n",
    "        document = re.sub(r'\\W', ' ', str(critica[i]))\n",
    "        \n",
    "        # remove all single characters\n",
    "        document = re.sub(r'\\s+[a-zA-Z]\\s+', ' ', document)\n",
    "        \n",
    "        # Remove single characters from the start\n",
    "        document = re.sub(r'\\^[a-zA-Z]\\s+', ' ', document) \n",
    "        \n",
    "        # Substituting multiple spaces with single space\n",
    "        document = re.sub(r'\\s+', ' ', document, flags=re.I)\n",
    "        \n",
    "        # Removing prefixed 'b'\n",
    "        document = re.sub(r'^b\\s+', '', document)\n",
    "        \n",
    "        # Converting to Lowercase\n",
    "        document = document.lower()\n",
    "        \n",
    "        # Lemmatization\n",
    "        document = document.split()\n",
    "\n",
    "        document = [stemmer.lemmatize(word) for word in document]\n",
    "        document = ' '.join(document)\n",
    "\n",
    "def stopword(word):\n",
    "    a= [i for i in word.split() if i not in stopwords.words('english')]\n",
    "    return ' '.join(a)\n",
    "        "
   ]
  },
  {
   "cell_type": "code",
   "execution_count": 47,
   "metadata": {},
   "outputs": [
    {
     "ename": "AttributeError",
     "evalue": "'NoneType' object has no attribute 'split'",
     "output_type": "error",
     "traceback": [
      "\u001b[1;31m---------------------------------------------------------------------------\u001b[0m",
      "\u001b[1;31mAttributeError\u001b[0m                            Traceback (most recent call last)",
      "\u001b[1;32mc:\\Users\\luiza\\Documents\\2022.2\\DEC7553 - Topicos Especiais III\\Trabalho-Topicos\\trabalho.ipynb Célula: 20\u001b[0m in \u001b[0;36m<cell line: 4>\u001b[1;34m()\u001b[0m\n\u001b[0;32m      <a href='vscode-notebook-cell:/c%3A/Users/luiza/Documents/2022.2/DEC7553%20-%20Topicos%20Especiais%20III/Trabalho-Topicos/trabalho.ipynb#X30sZmlsZQ%3D%3D?line=0'>1</a>\u001b[0m \u001b[39mdef\u001b[39;00m \u001b[39mfinalpreprocess\u001b[39m(string):\n\u001b[0;32m      <a href='vscode-notebook-cell:/c%3A/Users/luiza/Documents/2022.2/DEC7553%20-%20Topicos%20Especiais%20III/Trabalho-Topicos/trabalho.ipynb#X30sZmlsZQ%3D%3D?line=1'>2</a>\u001b[0m     \u001b[39mreturn\u001b[39;00m stopword(pre_processamento(string))\n\u001b[1;32m----> <a href='vscode-notebook-cell:/c%3A/Users/luiza/Documents/2022.2/DEC7553%20-%20Topicos%20Especiais%20III/Trabalho-Topicos/trabalho.ipynb#X30sZmlsZQ%3D%3D?line=3'>4</a>\u001b[0m df_train[\u001b[39m'\u001b[39m\u001b[39mclean_text\u001b[39m\u001b[39m'\u001b[39m] \u001b[39m=\u001b[39m df_train[\u001b[39m'\u001b[39;49m\u001b[39mcritica\u001b[39;49m\u001b[39m'\u001b[39;49m]\u001b[39m.\u001b[39;49mapply(\u001b[39mlambda\u001b[39;49;00m x: finalpreprocess(x))\n\u001b[0;32m      <a href='vscode-notebook-cell:/c%3A/Users/luiza/Documents/2022.2/DEC7553%20-%20Topicos%20Especiais%20III/Trabalho-Topicos/trabalho.ipynb#X30sZmlsZQ%3D%3D?line=4'>5</a>\u001b[0m df_train\u001b[39m.\u001b[39mhead()\n",
      "File \u001b[1;32mc:\\Users\\luiza\\AppData\\Local\\Programs\\Python\\Python310\\lib\\site-packages\\pandas\\core\\series.py:4774\u001b[0m, in \u001b[0;36mSeries.apply\u001b[1;34m(self, func, convert_dtype, args, **kwargs)\u001b[0m\n\u001b[0;32m   4664\u001b[0m \u001b[39mdef\u001b[39;00m \u001b[39mapply\u001b[39m(\n\u001b[0;32m   4665\u001b[0m     \u001b[39mself\u001b[39m,\n\u001b[0;32m   4666\u001b[0m     func: AggFuncType,\n\u001b[1;32m   (...)\u001b[0m\n\u001b[0;32m   4669\u001b[0m     \u001b[39m*\u001b[39m\u001b[39m*\u001b[39mkwargs,\n\u001b[0;32m   4670\u001b[0m ) \u001b[39m-\u001b[39m\u001b[39m>\u001b[39m DataFrame \u001b[39m|\u001b[39m Series:\n\u001b[0;32m   4671\u001b[0m     \u001b[39m\"\"\"\u001b[39;00m\n\u001b[0;32m   4672\u001b[0m \u001b[39m    Invoke function on values of Series.\u001b[39;00m\n\u001b[0;32m   4673\u001b[0m \n\u001b[1;32m   (...)\u001b[0m\n\u001b[0;32m   4772\u001b[0m \u001b[39m    dtype: float64\u001b[39;00m\n\u001b[0;32m   4773\u001b[0m \u001b[39m    \"\"\"\u001b[39;00m\n\u001b[1;32m-> 4774\u001b[0m     \u001b[39mreturn\u001b[39;00m SeriesApply(\u001b[39mself\u001b[39;49m, func, convert_dtype, args, kwargs)\u001b[39m.\u001b[39;49mapply()\n",
      "File \u001b[1;32mc:\\Users\\luiza\\AppData\\Local\\Programs\\Python\\Python310\\lib\\site-packages\\pandas\\core\\apply.py:1100\u001b[0m, in \u001b[0;36mSeriesApply.apply\u001b[1;34m(self)\u001b[0m\n\u001b[0;32m   1097\u001b[0m     \u001b[39mreturn\u001b[39;00m \u001b[39mself\u001b[39m\u001b[39m.\u001b[39mapply_str()\n\u001b[0;32m   1099\u001b[0m \u001b[39m# self.f is Callable\u001b[39;00m\n\u001b[1;32m-> 1100\u001b[0m \u001b[39mreturn\u001b[39;00m \u001b[39mself\u001b[39;49m\u001b[39m.\u001b[39;49mapply_standard()\n",
      "File \u001b[1;32mc:\\Users\\luiza\\AppData\\Local\\Programs\\Python\\Python310\\lib\\site-packages\\pandas\\core\\apply.py:1151\u001b[0m, in \u001b[0;36mSeriesApply.apply_standard\u001b[1;34m(self)\u001b[0m\n\u001b[0;32m   1149\u001b[0m     \u001b[39melse\u001b[39;00m:\n\u001b[0;32m   1150\u001b[0m         values \u001b[39m=\u001b[39m obj\u001b[39m.\u001b[39mastype(\u001b[39mobject\u001b[39m)\u001b[39m.\u001b[39m_values\n\u001b[1;32m-> 1151\u001b[0m         mapped \u001b[39m=\u001b[39m lib\u001b[39m.\u001b[39;49mmap_infer(\n\u001b[0;32m   1152\u001b[0m             values,\n\u001b[0;32m   1153\u001b[0m             f,\n\u001b[0;32m   1154\u001b[0m             convert\u001b[39m=\u001b[39;49m\u001b[39mself\u001b[39;49m\u001b[39m.\u001b[39;49mconvert_dtype,\n\u001b[0;32m   1155\u001b[0m         )\n\u001b[0;32m   1157\u001b[0m \u001b[39mif\u001b[39;00m \u001b[39mlen\u001b[39m(mapped) \u001b[39mand\u001b[39;00m \u001b[39misinstance\u001b[39m(mapped[\u001b[39m0\u001b[39m], ABCSeries):\n\u001b[0;32m   1158\u001b[0m     \u001b[39m# GH#43986 Need to do list(mapped) in order to get treated as nested\u001b[39;00m\n\u001b[0;32m   1159\u001b[0m     \u001b[39m#  See also GH#25959 regarding EA support\u001b[39;00m\n\u001b[0;32m   1160\u001b[0m     \u001b[39mreturn\u001b[39;00m obj\u001b[39m.\u001b[39m_constructor_expanddim(\u001b[39mlist\u001b[39m(mapped), index\u001b[39m=\u001b[39mobj\u001b[39m.\u001b[39mindex)\n",
      "File \u001b[1;32mc:\\Users\\luiza\\AppData\\Local\\Programs\\Python\\Python310\\lib\\site-packages\\pandas\\_libs\\lib.pyx:2919\u001b[0m, in \u001b[0;36mpandas._libs.lib.map_infer\u001b[1;34m()\u001b[0m\n",
      "\u001b[1;32mc:\\Users\\luiza\\Documents\\2022.2\\DEC7553 - Topicos Especiais III\\Trabalho-Topicos\\trabalho.ipynb Célula: 20\u001b[0m in \u001b[0;36m<lambda>\u001b[1;34m(x)\u001b[0m\n\u001b[0;32m      <a href='vscode-notebook-cell:/c%3A/Users/luiza/Documents/2022.2/DEC7553%20-%20Topicos%20Especiais%20III/Trabalho-Topicos/trabalho.ipynb#X30sZmlsZQ%3D%3D?line=0'>1</a>\u001b[0m \u001b[39mdef\u001b[39;00m \u001b[39mfinalpreprocess\u001b[39m(string):\n\u001b[0;32m      <a href='vscode-notebook-cell:/c%3A/Users/luiza/Documents/2022.2/DEC7553%20-%20Topicos%20Especiais%20III/Trabalho-Topicos/trabalho.ipynb#X30sZmlsZQ%3D%3D?line=1'>2</a>\u001b[0m     \u001b[39mreturn\u001b[39;00m stopword(pre_processamento(string))\n\u001b[1;32m----> <a href='vscode-notebook-cell:/c%3A/Users/luiza/Documents/2022.2/DEC7553%20-%20Topicos%20Especiais%20III/Trabalho-Topicos/trabalho.ipynb#X30sZmlsZQ%3D%3D?line=3'>4</a>\u001b[0m df_train[\u001b[39m'\u001b[39m\u001b[39mclean_text\u001b[39m\u001b[39m'\u001b[39m] \u001b[39m=\u001b[39m df_train[\u001b[39m'\u001b[39m\u001b[39mcritica\u001b[39m\u001b[39m'\u001b[39m]\u001b[39m.\u001b[39mapply(\u001b[39mlambda\u001b[39;00m x: finalpreprocess(x))\n\u001b[0;32m      <a href='vscode-notebook-cell:/c%3A/Users/luiza/Documents/2022.2/DEC7553%20-%20Topicos%20Especiais%20III/Trabalho-Topicos/trabalho.ipynb#X30sZmlsZQ%3D%3D?line=4'>5</a>\u001b[0m df_train\u001b[39m.\u001b[39mhead()\n",
      "\u001b[1;32mc:\\Users\\luiza\\Documents\\2022.2\\DEC7553 - Topicos Especiais III\\Trabalho-Topicos\\trabalho.ipynb Célula: 20\u001b[0m in \u001b[0;36mfinalpreprocess\u001b[1;34m(string)\u001b[0m\n\u001b[0;32m      <a href='vscode-notebook-cell:/c%3A/Users/luiza/Documents/2022.2/DEC7553%20-%20Topicos%20Especiais%20III/Trabalho-Topicos/trabalho.ipynb#X30sZmlsZQ%3D%3D?line=0'>1</a>\u001b[0m \u001b[39mdef\u001b[39;00m \u001b[39mfinalpreprocess\u001b[39m(string):\n\u001b[1;32m----> <a href='vscode-notebook-cell:/c%3A/Users/luiza/Documents/2022.2/DEC7553%20-%20Topicos%20Especiais%20III/Trabalho-Topicos/trabalho.ipynb#X30sZmlsZQ%3D%3D?line=1'>2</a>\u001b[0m     \u001b[39mreturn\u001b[39;00m stopword(pre_processamento(string))\n",
      "\u001b[1;32mc:\\Users\\luiza\\Documents\\2022.2\\DEC7553 - Topicos Especiais III\\Trabalho-Topicos\\trabalho.ipynb Célula: 20\u001b[0m in \u001b[0;36mstopword\u001b[1;34m(word)\u001b[0m\n\u001b[0;32m     <a href='vscode-notebook-cell:/c%3A/Users/luiza/Documents/2022.2/DEC7553%20-%20Topicos%20Especiais%20III/Trabalho-Topicos/trabalho.ipynb#X30sZmlsZQ%3D%3D?line=30'>31</a>\u001b[0m \u001b[39mdef\u001b[39;00m \u001b[39mstopword\u001b[39m(word):\n\u001b[1;32m---> <a href='vscode-notebook-cell:/c%3A/Users/luiza/Documents/2022.2/DEC7553%20-%20Topicos%20Especiais%20III/Trabalho-Topicos/trabalho.ipynb#X30sZmlsZQ%3D%3D?line=31'>32</a>\u001b[0m     a\u001b[39m=\u001b[39m [i \u001b[39mfor\u001b[39;00m i \u001b[39min\u001b[39;00m word\u001b[39m.\u001b[39;49msplit() \u001b[39mif\u001b[39;00m i \u001b[39mnot\u001b[39;00m \u001b[39min\u001b[39;00m stopwords\u001b[39m.\u001b[39mwords(\u001b[39m'\u001b[39m\u001b[39menglish\u001b[39m\u001b[39m'\u001b[39m)]\n\u001b[0;32m     <a href='vscode-notebook-cell:/c%3A/Users/luiza/Documents/2022.2/DEC7553%20-%20Topicos%20Especiais%20III/Trabalho-Topicos/trabalho.ipynb#X30sZmlsZQ%3D%3D?line=32'>33</a>\u001b[0m     \u001b[39mreturn\u001b[39;00m \u001b[39m'\u001b[39m\u001b[39m \u001b[39m\u001b[39m'\u001b[39m\u001b[39m.\u001b[39mjoin(a)\n",
      "\u001b[1;31mAttributeError\u001b[0m: 'NoneType' object has no attribute 'split'"
     ]
    }
   ],
   "source": [
    "def finalpreprocess(string):\n",
    "    return stopword(pre_processamento(string))\n",
    "\n",
    "df_train['clean_text'] = df_train['critica'].apply(lambda x: finalpreprocess(x))\n",
    "df_train.head()"
   ]
  },
  {
   "cell_type": "code",
   "execution_count": 44,
   "metadata": {},
   "outputs": [
    {
     "ename": "TypeError",
     "evalue": "'list' object is not callable",
     "output_type": "error",
     "traceback": [
      "\u001b[1;31m---------------------------------------------------------------------------\u001b[0m",
      "\u001b[1;31mTypeError\u001b[0m                                 Traceback (most recent call last)",
      "\u001b[1;32mc:\\Users\\luiza\\Documents\\2022.2\\DEC7553 - Topicos Especiais III\\Trabalho-Topicos\\trabalho.ipynb Célula: 20\u001b[0m in \u001b[0;36m<cell line: 1>\u001b[1;34m()\u001b[0m\n\u001b[1;32m----> <a href='vscode-notebook-cell:/c%3A/Users/luiza/Documents/2022.2/DEC7553%20-%20Topicos%20Especiais%20III/Trabalho-Topicos/trabalho.ipynb#X26sZmlsZQ%3D%3D?line=0'>1</a>\u001b[0m df_train[\u001b[39m'\u001b[39m\u001b[39mClean data\u001b[39m\u001b[39m'\u001b[39m] \u001b[39m=\u001b[39m df_train[\u001b[39m'\u001b[39;49m\u001b[39mcritica\u001b[39;49m\u001b[39m'\u001b[39;49m]\u001b[39m.\u001b[39;49mapply(\u001b[39mlambda\u001b[39;49;00m x: documents(x))\n\u001b[0;32m      <a href='vscode-notebook-cell:/c%3A/Users/luiza/Documents/2022.2/DEC7553%20-%20Topicos%20Especiais%20III/Trabalho-Topicos/trabalho.ipynb#X26sZmlsZQ%3D%3D?line=1'>2</a>\u001b[0m df_train\u001b[39m.\u001b[39mhead(\u001b[39m5\u001b[39m)\n",
      "File \u001b[1;32mc:\\Users\\luiza\\AppData\\Local\\Programs\\Python\\Python310\\lib\\site-packages\\pandas\\core\\series.py:4774\u001b[0m, in \u001b[0;36mSeries.apply\u001b[1;34m(self, func, convert_dtype, args, **kwargs)\u001b[0m\n\u001b[0;32m   4664\u001b[0m \u001b[39mdef\u001b[39;00m \u001b[39mapply\u001b[39m(\n\u001b[0;32m   4665\u001b[0m     \u001b[39mself\u001b[39m,\n\u001b[0;32m   4666\u001b[0m     func: AggFuncType,\n\u001b[1;32m   (...)\u001b[0m\n\u001b[0;32m   4669\u001b[0m     \u001b[39m*\u001b[39m\u001b[39m*\u001b[39mkwargs,\n\u001b[0;32m   4670\u001b[0m ) \u001b[39m-\u001b[39m\u001b[39m>\u001b[39m DataFrame \u001b[39m|\u001b[39m Series:\n\u001b[0;32m   4671\u001b[0m     \u001b[39m\"\"\"\u001b[39;00m\n\u001b[0;32m   4672\u001b[0m \u001b[39m    Invoke function on values of Series.\u001b[39;00m\n\u001b[0;32m   4673\u001b[0m \n\u001b[1;32m   (...)\u001b[0m\n\u001b[0;32m   4772\u001b[0m \u001b[39m    dtype: float64\u001b[39;00m\n\u001b[0;32m   4773\u001b[0m \u001b[39m    \"\"\"\u001b[39;00m\n\u001b[1;32m-> 4774\u001b[0m     \u001b[39mreturn\u001b[39;00m SeriesApply(\u001b[39mself\u001b[39;49m, func, convert_dtype, args, kwargs)\u001b[39m.\u001b[39;49mapply()\n",
      "File \u001b[1;32mc:\\Users\\luiza\\AppData\\Local\\Programs\\Python\\Python310\\lib\\site-packages\\pandas\\core\\apply.py:1100\u001b[0m, in \u001b[0;36mSeriesApply.apply\u001b[1;34m(self)\u001b[0m\n\u001b[0;32m   1097\u001b[0m     \u001b[39mreturn\u001b[39;00m \u001b[39mself\u001b[39m\u001b[39m.\u001b[39mapply_str()\n\u001b[0;32m   1099\u001b[0m \u001b[39m# self.f is Callable\u001b[39;00m\n\u001b[1;32m-> 1100\u001b[0m \u001b[39mreturn\u001b[39;00m \u001b[39mself\u001b[39;49m\u001b[39m.\u001b[39;49mapply_standard()\n",
      "File \u001b[1;32mc:\\Users\\luiza\\AppData\\Local\\Programs\\Python\\Python310\\lib\\site-packages\\pandas\\core\\apply.py:1151\u001b[0m, in \u001b[0;36mSeriesApply.apply_standard\u001b[1;34m(self)\u001b[0m\n\u001b[0;32m   1149\u001b[0m     \u001b[39melse\u001b[39;00m:\n\u001b[0;32m   1150\u001b[0m         values \u001b[39m=\u001b[39m obj\u001b[39m.\u001b[39mastype(\u001b[39mobject\u001b[39m)\u001b[39m.\u001b[39m_values\n\u001b[1;32m-> 1151\u001b[0m         mapped \u001b[39m=\u001b[39m lib\u001b[39m.\u001b[39;49mmap_infer(\n\u001b[0;32m   1152\u001b[0m             values,\n\u001b[0;32m   1153\u001b[0m             f,\n\u001b[0;32m   1154\u001b[0m             convert\u001b[39m=\u001b[39;49m\u001b[39mself\u001b[39;49m\u001b[39m.\u001b[39;49mconvert_dtype,\n\u001b[0;32m   1155\u001b[0m         )\n\u001b[0;32m   1157\u001b[0m \u001b[39mif\u001b[39;00m \u001b[39mlen\u001b[39m(mapped) \u001b[39mand\u001b[39;00m \u001b[39misinstance\u001b[39m(mapped[\u001b[39m0\u001b[39m], ABCSeries):\n\u001b[0;32m   1158\u001b[0m     \u001b[39m# GH#43986 Need to do list(mapped) in order to get treated as nested\u001b[39;00m\n\u001b[0;32m   1159\u001b[0m     \u001b[39m#  See also GH#25959 regarding EA support\u001b[39;00m\n\u001b[0;32m   1160\u001b[0m     \u001b[39mreturn\u001b[39;00m obj\u001b[39m.\u001b[39m_constructor_expanddim(\u001b[39mlist\u001b[39m(mapped), index\u001b[39m=\u001b[39mobj\u001b[39m.\u001b[39mindex)\n",
      "File \u001b[1;32mc:\\Users\\luiza\\AppData\\Local\\Programs\\Python\\Python310\\lib\\site-packages\\pandas\\_libs\\lib.pyx:2919\u001b[0m, in \u001b[0;36mpandas._libs.lib.map_infer\u001b[1;34m()\u001b[0m\n",
      "\u001b[1;32mc:\\Users\\luiza\\Documents\\2022.2\\DEC7553 - Topicos Especiais III\\Trabalho-Topicos\\trabalho.ipynb Célula: 20\u001b[0m in \u001b[0;36m<lambda>\u001b[1;34m(x)\u001b[0m\n\u001b[1;32m----> <a href='vscode-notebook-cell:/c%3A/Users/luiza/Documents/2022.2/DEC7553%20-%20Topicos%20Especiais%20III/Trabalho-Topicos/trabalho.ipynb#X26sZmlsZQ%3D%3D?line=0'>1</a>\u001b[0m df_train[\u001b[39m'\u001b[39m\u001b[39mClean data\u001b[39m\u001b[39m'\u001b[39m] \u001b[39m=\u001b[39m df_train[\u001b[39m'\u001b[39m\u001b[39mcritica\u001b[39m\u001b[39m'\u001b[39m]\u001b[39m.\u001b[39mapply(\u001b[39mlambda\u001b[39;00m x: documents(x))\n\u001b[0;32m      <a href='vscode-notebook-cell:/c%3A/Users/luiza/Documents/2022.2/DEC7553%20-%20Topicos%20Especiais%20III/Trabalho-Topicos/trabalho.ipynb#X26sZmlsZQ%3D%3D?line=1'>2</a>\u001b[0m df_train\u001b[39m.\u001b[39mhead(\u001b[39m5\u001b[39m)\n",
      "\u001b[1;31mTypeError\u001b[0m: 'list' object is not callable"
     ]
    }
   ],
   "source": [
    "df_train['Clean data'] = df_train['critica'].apply(lambda x: documents(x))\n",
    "df_train.head(5)"
   ]
  },
  {
   "cell_type": "code",
   "execution_count": 41,
   "metadata": {},
   "outputs": [
    {
     "name": "stdout",
     "output_type": "stream",
     "text": [
      "[[0 0 0 ... 0 0 0]\n",
      " [0 0 0 ... 0 0 0]\n",
      " [0 0 0 ... 0 0 0]\n",
      " ...\n",
      " [0 0 0 ... 0 0 0]\n",
      " [0 0 0 ... 0 0 0]\n",
      " [0 0 0 ... 0 0 0]]\n"
     ]
    }
   ],
   "source": [
    "vectorizer = CountVectorizer(max_features=1500, min_df=5, max_df=0.7, stop_words=stopwords.words('english'))\n",
    "X = vectorizer.fit_transform(documents).toarray()\n",
    "\n",
    "print(X)"
   ]
  }
 ],
 "metadata": {
  "kernelspec": {
   "display_name": "Python 3.10.6 64-bit",
   "language": "python",
   "name": "python3"
  },
  "language_info": {
   "codemirror_mode": {
    "name": "ipython",
    "version": 3
   },
   "file_extension": ".py",
   "mimetype": "text/x-python",
   "name": "python",
   "nbconvert_exporter": "python",
   "pygments_lexer": "ipython3",
   "version": "3.10.6"
  },
  "orig_nbformat": 4,
  "vscode": {
   "interpreter": {
    "hash": "6b6e3305c6d5e98d3597993ad9b000902b7736611cc00ab4cbc2007df81cff6b"
   }
  }
 },
 "nbformat": 4,
 "nbformat_minor": 2
}
